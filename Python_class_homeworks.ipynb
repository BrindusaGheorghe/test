{
 "cells": [
  {
   "cell_type": "markdown",
   "metadata": {},
   "source": [
    "# Python class homeworks\n",
    "---"
   ]
  },
  {
   "cell_type": "markdown",
   "metadata": {},
   "source": [
    "These are the homeworks for the Python class I am taking in the winter semester 2022-2023. Even though I took a Python class before, that was a long time ago (2019-2020), I was only able to do minimally well, and could not complete the project work.\n",
    "\n",
    "## This class' goals:\n",
    "> **Finish the project!!!**\n",
    "<br>\n",
    "> **Do a good job in the exam!!!**\n",
    "\n",
    "### Optional goal:\n",
    "> **Do a terrific job in the project!**"
   ]
  },
  {
   "cell_type": "markdown",
   "metadata": {},
   "source": [
    "# Homework 1 - from 31.10.2022\n",
    "### Instructions:\n",
    "\n",
    "[Online version here.](https://luketudge.github.io/introduction-to-programming/intro.html)\n",
    "<br>\n",
    "### 1.\n",
    "Open the [greeting_personal.py](https://luketudge.github.io/introduction-to-programming/examples/greeting_personal.html) program. Save a new version called *greeting_personal_v2.py* (or whatever you like), and add the following small improvements:\n",
    "\n",
    "* Improve the input part of the program so that it looks a little neater for the user when they type in their name. Add a space between the input prompt and the position where the user starts typing, so that when they type they see for example <span style=\"color:red\"> What is your name? Mildred</span> instead of <span style=\"color:red\"> What is your name?Mildred</span>.\n",
    "\n",
    "<span style=\"color:red\"> </span>\n",
    "\n",
    "* Add a dot to the end of the printed output so that it forms a correctly punctuated sentence. So the user sees for example <span style=\"color:red\">Hello Mildred.</span> instead of just <span style=\"color:red\">Hello Mildred</span>.\n",
    "\n",
    "Make sure to run your improved version to check that your changes work as expected.\n",
    "\n",
    "### 2\n",
    "\n",
    "Write a new program. This program should begin by asking the user for their name just as *greeting_personal.py* does. But then it asks them for their favorite color, and addresses them by their name in the question. Finally, the program prints out confirmation of their name and favorite color. The program should look something like this in action in the console:\n",
    "\n",
    "```\n",
    "\n",
    "What is your name? Mildred\n",
    "What is your favorite color Mildred? puce\n",
    "Your name is: Mildred\n",
    "Your favorite color is: puce\n",
    "\n",
    "```"
   ]
  },
  {
   "cell_type": "markdown",
   "metadata": {},
   "source": [
    "### My work:"
   ]
  },
  {
   "cell_type": "markdown",
   "metadata": {},
   "source": [
    "### 1"
   ]
  },
  {
   "cell_type": "code",
   "execution_count": null,
   "metadata": {},
   "outputs": [],
   "source": [
    "\"\"\"\n",
    "A program to print out a personal welcome message.\n",
    "Gets the user to type in their name.\n",
    "\"\"\"\n",
    "\n",
    "# Get the user to type in their name in the console.\n",
    "# Store the result in a variable.\n",
    "name = input('What is your name? ')\n",
    "\n",
    "# Combine the name with a welcome message.\n",
    "# Store the result in a new variable.\n",
    "message = 'Hello ' + name + '.'\n",
    "\n",
    "# Print out the contents of the welcome message variable.\n",
    "print(message)"
   ]
  },
  {
   "cell_type": "markdown",
   "metadata": {},
   "source": [
    "### 2"
   ]
  },
  {
   "cell_type": "code",
   "execution_count": null,
   "metadata": {},
   "outputs": [],
   "source": [
    "\"\"\"\n",
    "A program to print out a confirmation of their name and favourite color.\n",
    "Gets the user to type in their name and favourite color.\n",
    "\"\"\"\n",
    "\n",
    "# Get the user to type in their name in the console.\n",
    "# Store the result in a variable.\n",
    "name = input('What is your name? ')\n",
    "\n",
    "# Get the user to type in their favourite color in the console.\n",
    "# Store the result in a variable.\n",
    "color = input('What is your favourite color? ')\n",
    "\n",
    "# Combine the name with a message.\n",
    "# Store the result in a new variable.\n",
    "message_1 = 'Your name is: ' + name + '.'\n",
    "\n",
    "# Combine the favourite color with a message.\n",
    "# Store the result in a new variable.\n",
    "message_2 = 'Your favourite color is: ' + color + '.'\n",
    "\n",
    "# Print out the contents of the messages.\n",
    "print(message_1)\n",
    "print(message_2)"
   ]
  },
  {
   "cell_type": "code",
   "execution_count": null,
   "metadata": {},
   "outputs": [],
   "source": []
  }
 ],
 "metadata": {
  "kernelspec": {
   "display_name": "Python 3",
   "language": "python",
   "name": "python3"
  },
  "language_info": {
   "codemirror_mode": {
    "name": "ipython",
    "version": 3
   },
   "file_extension": ".py",
   "mimetype": "text/x-python",
   "name": "python",
   "nbconvert_exporter": "python",
   "pygments_lexer": "ipython3",
   "version": "3.7.3"
  }
 },
 "nbformat": 4,
 "nbformat_minor": 2
}
